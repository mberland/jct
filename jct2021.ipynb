{
 "cells": [
  {
   "cell_type": "code",
   "execution_count": 2,
   "metadata": {},
   "outputs": [
    {
     "name": "stdout",
     "output_type": "stream",
     "text": [
      "3.8.5 (default, Jan 27 2021, 15:41:15) \n",
      "[GCC 9.3.0]\n"
     ]
    }
   ],
   "source": [
    "import csv,sys, math, random, collections, pprint, json, os, gzip, pickle\n",
    "import pandas as pd\n",
    "import numpy as np\n",
    "import seaborn as sns\n",
    "import matplotlib.pyplot as plt\n",
    "from typing import List, Any\n",
    "from itertools import groupby\n",
    "from IPython.display import JSON, display_javascript, display_html, display\n",
    "from sklearn import tree\n",
    "from sklearn.naive_bayes import MultinomialNB, CategoricalNB\n",
    "from sklearn.tree import DecisionTreeClassifier\n",
    "from sklearn.ensemble import RandomForestClassifier\n",
    "from sklearn.metrics import confusion_matrix\n",
    "from sklearn.model_selection import train_test_split\n",
    "from sklearn.neural_network import MLPClassifier\n",
    "print(sys.version)\n",
    "plt.rcParams['figure.figsize'] = [12, 8]\n",
    "plt.rcParams['figure.dpi'] = 200"
   ]
  },
  {
   "cell_type": "code",
   "execution_count": 2,
   "metadata": {},
   "outputs": [],
   "source": [
    "stoplist = {'eventUniqueId', 'timeEpoch', 'timeUTC', 'eventType'}\n",
    "\n",
    "choice_event_keys = sorted(['CardPlacedInMachine', 'FlagPlaced', 'FlagMoved',\n",
    "                     'CardPlacedInTray', 'CardSwapped', \n",
    "                     'RainbowPlantPlanted', 'PlantPlanted', 'CreatureSpawned'])\n",
    "choice_nonevent_keys = sorted(['GameStart', 'CreatureStateChanged', 'PlantStateChanged', 'TreasureDespawned',\n",
    "                        'CurrentScreenChanged', 'CreatureSelected', 'CreatureDeselected',\n",
    "                        'TreasureSpawned', 'PlantWatered', 'TreasureOpened', 'CreatureDespawned',\n",
    "                        'AllOrbsFilled', 'MushroomOrbFilled', 'WoodyOrbFilled', 'SeedPacketCountChanged',\n",
    "                        'LeafyOrbFilled', 'FlagCancelled', 'CreatureLocked', 'CreatureUnlocked'])\n",
    "progress_keys = sorted(['TreasureOpened', 'PlantWatered', 'RainbowPlantPlanted', 'AllOrbsFilled', 'MushroomOrbFilled',\n",
    "                 'WoodyOrbFilled', 'LeafyOrbFilled'])\n",
    "relevant_keys = sorted(choice_event_keys + progress_keys)\n",
    "creature_keys_p1 = [f\"player1Creature{j}\" for j in range(1,4)]\n",
    "creature_keys_p2 = [f\"player2Creature{j}\" for j in range(1,4)]\n",
    "creatures = [creature_keys_p1,creature_keys_p2]\n",
    "creature_stats = ['cardsExecuted','machineType','plantsPlanted','plantsWatered','starsEarned']\n",
    "\n",
    "event_change_threshold = 30"
   ]
  },
  {
   "cell_type": "code",
   "execution_count": 3,
   "metadata": {},
   "outputs": [],
   "source": [
    "DEBUG = False\n",
    "\n",
    "if DEBUG:\n",
    "    num_datasets = 1\n",
    "else:\n",
    "    num_datasets = 5"
   ]
  },
  {
   "cell_type": "code",
   "execution_count": 4,
   "metadata": {},
   "outputs": [],
   "source": [
    "def diff_elts(a: dict, b: dict) -> dict:\n",
    "    output = {}\n",
    "    if 'eventKey' in a:\n",
    "        output['eventKey'] = a['eventKey']\n",
    "    for ka in a.keys():\n",
    "        if ka in b and ka not in stoplist:\n",
    "            if isinstance(a[ka], dict):\n",
    "                diff = diff_elts(a[ka], b[ka])\n",
    "                if diff:\n",
    "                    output[ka] = diff\n",
    "            elif a[ka] != b[ka]:\n",
    "                output[ka] = a[ka]\n",
    "    if len(output.keys()) > 1:\n",
    "        return output\n",
    "    return False\n",
    "\n",
    "\n",
    "def find_likely_player(datum: dict) -> tuple:\n",
    "    if datum:\n",
    "        player1 = any(e for e in datum.keys() if \"layer1\" in e)\n",
    "        player2 = any(e for e in datum.keys() if \"layer2\" in e)\n",
    "        if player1 or player2:\n",
    "            return player1, player2\n",
    "    return False, False\n",
    "\n",
    "\n",
    "def apply_diff(player, elt):\n",
    "    current_time = elt['timeEpoch']\n",
    "\n",
    "    current_event = elt['eventKey']\n",
    "    if current_event == player[2] or current_event in choice_nonevent_keys:\n",
    "        return (player[0], current_time, player[2]), \"\"\n",
    "    return (current_time, current_time, current_event), f\"{player[2]} {player[0]} => {player[1]}\""
   ]
  },
  {
   "cell_type": "code",
   "execution_count": 5,
   "metadata": {},
   "outputs": [
    {
     "name": "stdout",
     "output_type": "stream",
     "text": [
      "LOADING PKL...DONE!\n",
      "   NYSCI: NONE\n",
      "LAWRENCE: 957778: 1560964321 => 1576476755\n"
     ]
    }
   ],
   "source": [
    "pklfilename = \"./lawrence.pkl\"\n",
    "lawrence_data = []\n",
    "nysci_data = []\n",
    "\n",
    "if not os.path.exists(pklfilename):\n",
    "    filenames = random.sample([file.path for file in os.scandir(\"./data\")], num_datasets)\n",
    "    print(filenames)\n",
    "\n",
    "    for filename in filenames:\n",
    "        with gzip.open(filename, \"rb\") as f:\n",
    "            print(f\"\\nJSON loading {filename}...\", end=\"\")\n",
    "            t_data_list = list(json.load(f).values())\n",
    "            print(\"DONE.\")\n",
    "            print(f\"Data filtering {filename}...\", end=\"\")\n",
    "            lawrence_data.extend(list(filter(lambda x: \"Lawrence\" == x[\"siteName\"], t_data_list)))\n",
    "            nysci_data.extend(list(filter(lambda x: \"Lawrence\" != x[\"siteName\"], t_data_list)))\n",
    "            print(\"DONE.\")\n",
    "        \n",
    "    print(\"Sorting...\", end=\"\")\n",
    "    lawrence_data = list(sorted(lawrence_data, key=lambda e: e[\"timeEpoch\"]))\n",
    "    nysci_data = list(sorted(nysci_data, key=lambda e: e[\"timeEpoch\"]))\n",
    "    print(\"DONE.\")\n",
    "    with open(pklfilename,\"wb\") as f:\n",
    "        pickle.dump(lawrence_data, f, pickle.HIGHEST_PROTOCOL)\n",
    "else:\n",
    "    print(\"LOADING PKL...\",end=\"\")\n",
    "    with open(pklfilename,\"rb\") as f:\n",
    "        lawrence_data = pickle.load(f)\n",
    "    print(\"DONE!\")\n",
    "\n",
    "if len(nysci_data) > 0:\n",
    "    print(f\"   NYSCI: {len(nysci_data)}: {nysci_data[0]['timeEpoch']} => {nysci_data[-1]['timeEpoch']}\")\n",
    "else:\n",
    "    print(f\"   NYSCI: NONE\")\n",
    "if len(lawrence_data) > 0:\n",
    "    print(f\"LAWRENCE: {len(lawrence_data)}: {lawrence_data[0]['timeEpoch']} => {lawrence_data[-1]['timeEpoch']}\")\n",
    "else:\n",
    "    print(f\"LAWRENCE: NONE\")"
   ]
  },
  {
   "cell_type": "code",
   "execution_count": null,
   "metadata": {},
   "outputs": [],
   "source": []
  },
  {
   "cell_type": "code",
   "execution_count": 10,
   "metadata": {},
   "outputs": [
    {
     "data": {
      "text/plain": [
       "{'AllOrbsFilled',\n",
       " 'CardPlacedInMachine',\n",
       " 'CardPlacedInTray',\n",
       " 'CardSwapped',\n",
       " 'CreatureDeselected',\n",
       " 'CreatureDespawned',\n",
       " 'CreatureLocked',\n",
       " 'CreatureSelected',\n",
       " 'CreatureSpawned',\n",
       " 'CreatureStateChanged',\n",
       " 'CreatureUnlocked',\n",
       " 'CurrentScreenChanged',\n",
       " 'FlagCancelled',\n",
       " 'FlagMoved',\n",
       " 'FlagPlaced',\n",
       " 'GameStart',\n",
       " 'LeafyOrbFilled',\n",
       " 'MushroomOrbFilled',\n",
       " 'PlantPlanted',\n",
       " 'PlantStateChanged',\n",
       " 'PlantWatered',\n",
       " 'RainbowPlantPlanted',\n",
       " 'SeedPacketCountChanged',\n",
       " 'TreasureDespawned',\n",
       " 'TreasureOpened',\n",
       " 'TreasureSpawned',\n",
       " 'WoodyOrbFilled'}"
      ]
     },
     "execution_count": 10,
     "metadata": {},
     "output_type": "execute_result"
    }
   ],
   "source": [
    "set(map(lambda elt: elt['eventKey'], lawrence_data))"
   ]
  },
  {
   "cell_type": "code",
   "execution_count": 7,
   "metadata": {},
   "outputs": [],
   "source": [
    "def live_players(grouped_elts):\n",
    "    op1 = op2 = 0\n",
    "    elt_prior = False\n",
    "    for elt in grouped_elts:\n",
    "        if elt_prior:\n",
    "            elt_diff = diff_elts(elt, elt_prior)\n",
    "            p1, p2 = find_likely_player(elt_diff)\n",
    "            if p1: op1 = 1\n",
    "            if p2: op2 = 1\n",
    "            if 2 == p1 + p2: return 2\n",
    "        elt_prior = elt\n",
    "    return (op1 + op2)\n",
    "\n",
    "def progress_types(grouped_elts):\n",
    "    return set([elt['eventKey'] for elt in grouped_elts if elt['eventKey'] in progress_keys])\n",
    "\n",
    "def action_types(grouped_elts):\n",
    "    return set([elt['eventKey'] for elt in grouped_elts if elt['eventKey'] in choice_event_keys])\n",
    "\n",
    "def count_elts(grouped_elts):\n",
    "    return len([elt['eventKey'] for elt in grouped_elts if elt['eventKey'] in relevant_keys])\n",
    "\n",
    "def profile_group(grouped_elts):\n",
    "    output = {}\n",
    "    output['live_players'] = live_players(grouped_elts)\n",
    "    output['progress_types'] = progress_types(grouped_elts)\n",
    "    output['action_types'] = action_types(grouped_elts)\n",
    "    output['num_elts'] = count_elts(grouped_elts)\n",
    "    return output"
   ]
  },
  {
   "cell_type": "code",
   "execution_count": 8,
   "metadata": {},
   "outputs": [],
   "source": [
    "# bucket_size = 120\n",
    "# flaw = filter(lambda elt: elt['eventKey'] in relevant_keys, lawrence_data)\n",
    "# gflaw = groupby(flaw, lambda elt: bucket_size * int(elt['timeEpoch'] / bucket_size))\n",
    "# mgflaw = map(lambda tgrp: (tgrp[0], profile_group(list(tgrp[1]))), gflaw) \n",
    "# lmgflaw = list(mgflaw)\n",
    "# print(random.choice(lmgflaw))\n",
    "# # print(random.sample([x for x in mgflaw if x[1]['live_players'] > 0 and x[1]['progress_types']],10))\n"
   ]
  },
  {
   "cell_type": "code",
   "execution_count": 9,
   "metadata": {},
   "outputs": [
    {
     "ename": "NameError",
     "evalue": "name 'gflaw' is not defined",
     "output_type": "error",
     "traceback": [
      "\u001b[0;31m---------------------------------------------------------------------------\u001b[0m",
      "\u001b[0;31mNameError\u001b[0m                                 Traceback (most recent call last)",
      "\u001b[0;32m<ipython-input-9-b189ecf7732e>\u001b[0m in \u001b[0;36m<module>\u001b[0;34m\u001b[0m\n\u001b[0;32m----> 1\u001b[0;31m \u001b[0mgflaw\u001b[0m\u001b[0;34m\u001b[0m\u001b[0;34m\u001b[0m\u001b[0m\n\u001b[0m",
      "\u001b[0;31mNameError\u001b[0m: name 'gflaw' is not defined"
     ]
    }
   ],
   "source": [
    "gflaw"
   ]
  },
  {
   "cell_type": "code",
   "execution_count": null,
   "metadata": {},
   "outputs": [],
   "source": []
  },
  {
   "cell_type": "code",
   "execution_count": null,
   "metadata": {},
   "outputs": [],
   "source": [
    "bucket_idle_split = 30\n",
    "flaw = filter(lambda elt: elt['eventKey'] in relevant_keys, lawrence_data)\n",
    "\n",
    "def split_by_idle(evts):\n",
    "    evt_time = 0\n",
    "    output = []\n",
    "    current_bucket = []\n",
    "    for elt in evts:\n",
    "        prev_evt_time = evt_time\n",
    "        evt_time = elt['timeEpoch']\n",
    "        if (evt_time - prev_evt_time) > bucket_idle_split:\n",
    "            if len(current_bucket) > 0:\n",
    "                output.append(tuple([evt_time,current_bucket]))\n",
    "                current_bucket = []\n",
    "        current_bucket.append(elt)\n",
    "    output.append(tuple([evt_time,current_bucket]))\n",
    "    return output\n",
    "\n",
    "gflaw = split_by_idle(flaw)\n",
    "mgflaw = map(lambda tgrp: (tgrp[0], profile_group(list(tgrp[1]))), gflaw) \n",
    "lmgflaw = list(mgflaw)\n",
    "print(random.choice(lmgflaw))\n",
    "print(len(lmgflaw))"
   ]
  },
  {
   "cell_type": "code",
   "execution_count": null,
   "metadata": {},
   "outputs": [],
   "source": [
    "print(random.choice(gflaw)[1])"
   ]
  },
  {
   "cell_type": "code",
   "execution_count": null,
   "metadata": {},
   "outputs": [],
   "source": [
    "\n",
    "\n",
    "end = False\n",
    "for buckets in gflaw:\n",
    "    if not end:\n",
    "        bucket = buckets[1]\n",
    "        for elt in bucket:\n",
    "            if elt['eventKey'] == \"CardPlacedInTray\":\n",
    "                display(elt)\n",
    "                end = True\n",
    "    "
   ]
  },
  {
   "cell_type": "code",
   "execution_count": null,
   "metadata": {},
   "outputs": [],
   "source": [
    "print(len(gflaw))\n",
    "end = False\n",
    "for buckets in gflaw:\n",
    "    if not end:\n",
    "        bucket = buckets[1]\n",
    "        output = []\n",
    "        for elt in bucket:\n",
    "            output.append(elt['eventKey'])\n",
    "        print(\",\".join(output))\n",
    "        end = True"
   ]
  },
  {
   "cell_type": "code",
   "execution_count": null,
   "metadata": {},
   "outputs": [],
   "source": [
    "to_dummy = lambda header, data : [1 if h in data else 0 for h in header]\n",
    "# print(to_dummy(choice_event_keys,{'CardPlacedInMachine', 'FlagPlaced'}))\n",
    "\n",
    "\n",
    "header = ['epoch','live_players','num_elts'] + progress_keys + choice_event_keys \n",
    "csvoutfilename = \"dummy_coded_lawrence_2021idc.csv\"\n",
    "csvout = open(csvoutfilename,\"w\")\n",
    "csvout.write(\",\".join(header) + \"\\n\")\n",
    "for profile in lmgflaw:\n",
    "    output_row = [  profile[0], profile[1]['live_players'],profile[1]['num_elts'] ] + to_dummy(progress_keys,profile[1]['progress_types']) + to_dummy(choice_event_keys,profile[1]['action_types'])\n",
    "    csvout.write(\",\".join(map(str,output_row)) + \"\\n\")\n",
    "csvout.close()"
   ]
  },
  {
   "cell_type": "code",
   "execution_count": null,
   "metadata": {},
   "outputs": [],
   "source": [
    "df = pd.read_csv(csvoutfilename)"
   ]
  },
  {
   "cell_type": "code",
   "execution_count": null,
   "metadata": {},
   "outputs": [],
   "source": [
    "import pandas as pd\n",
    "import statsmodels.api as sm\n",
    "from statsmodels.formula.api import ols\n",
    "\n",
    "\n",
    "df_lm=ols('TreasureOpened ~ live_players + FlagMoved + CreatureSpawned + PlantPlanted + CardPlacedInMachine', data=df[df.num_elts>200]).fit() #Specify C for Categorical\n",
    "print(sm.stats.anova_lm(df_lm))"
   ]
  },
  {
   "cell_type": "code",
   "execution_count": null,
   "metadata": {},
   "outputs": [],
   "source": [
    "import math\n",
    "df['orb'] = df.LeafyOrbFilled + df.MushroomOrbFilled + df.WoodyOrbFilled\n",
    "\n",
    "df.orb = df.orb.apply(lambda x : x/3.0).apply(np.ceil).astype('int32')\n",
    "dflive = df[df.num_elts>20]\n",
    "dflive.head()"
   ]
  },
  {
   "cell_type": "code",
   "execution_count": null,
   "metadata": {},
   "outputs": [],
   "source": [
    "dflive[dflive.columns[1:]].mean()"
   ]
  },
  {
   "cell_type": "code",
   "execution_count": null,
   "metadata": {},
   "outputs": [],
   "source": [
    "\n",
    "plt.figure(figsize=(16, 6))\n",
    "dfcorr = dflive.corr()\n",
    "sns.heatmap(dfcorr, annot=True, fmt='.1f')\n",
    "plt.show()"
   ]
  },
  {
   "cell_type": "markdown",
   "metadata": {},
   "source": [
    "### two players more things happen?\n",
    "- increase in orbs filled + treasure MORE than increase in action?\n",
    "    - progress = b1\\*x1  + b2\\*x2 + ...\n",
    "- similarity of action correlated to orb-filling?\n",
    "    - e.g. if both players are using the same actions (as opposed to different actions) is there a higher likelihood of an orb filling event\n",
    "    - this is interesting because maybe it's syncronicity (in the sting sense) or (opposite) maybe it's roles!\n",
    "- p(diversity_of_creatures \\* complexity_of_creature | live_players)\n",
    "- ? p(orbsfilled>2 | live players, orbsfilled>1)\n",
    "- p(appropriate_plant_planted | orb_in_need_of_filling, live_players)\n",
    "\n",
    "### is there more productive play when there are two players\n",
    "- is dwell time increased?\n",
    "- not just \"more actions, more better\" (MC) but somehow intentional\n",
    "\n",
    "### todo\n",
    "- score = f(card diversity, creature diversity, plant diversity) \n",
    "    - max the spread\n",
    "    \n",
    "### vishesh 2021MARCH4\n",
    "- creature spawn as an episode\n",
    "    - how much time spent in flagplaced?\n",
    "    - which animal\n",
    "    - next to treasure box or plant?\n"
   ]
  },
  {
   "cell_type": "code",
   "execution_count": null,
   "metadata": {},
   "outputs": [],
   "source": [
    "dflive.size"
   ]
  },
  {
   "cell_type": "code",
   "execution_count": null,
   "metadata": {},
   "outputs": [],
   "source": []
  },
  {
   "cell_type": "code",
   "execution_count": null,
   "metadata": {},
   "outputs": [],
   "source": [
    "choice_event_keys"
   ]
  },
  {
   "cell_type": "code",
   "execution_count": null,
   "metadata": {},
   "outputs": [],
   "source": [
    "\n",
    "X_train, X_test, y_train, y_test = train_test_split(dflive[choice_event_keys],dflive.orb, test_size=0.1)\n",
    "# X_train, X_test, y_train, y_test = train_test_split(X, y, test_size=0.1, random_state=42)\n"
   ]
  },
  {
   "cell_type": "code",
   "execution_count": null,
   "metadata": {},
   "outputs": [],
   "source": [
    "model = MultinomialNB().fit(X_train, y_train)\n",
    "print(f\"{model.score(X_test,y_test):.2f}\")\n",
    "# print(confusion_matrix(y_test, predicted))\n",
    "print(\",\".join(choice_event_keys))\n",
    "# print(list(map(lambda x : int(100 * (2 ** x)), model.feature_log_prob_[0])))\n",
    "pize = lambda x : int(100 * (2 ** x))\n",
    "not_orbbed = map(pize, model.feature_log_prob_[0])\n",
    "orbbed = map(pize,model.feature_log_prob_[1])\n",
    " \n",
    "print(list(map(lambda a,b: a-b,orbbed,not_orbbed)))"
   ]
  },
  {
   "cell_type": "code",
   "execution_count": null,
   "metadata": {},
   "outputs": [],
   "source": [
    "clf = DecisionTreeClassifier(max_depth=4)\n",
    "clf = clf.fit(X_train, y_train)\n",
    "tree.plot_tree(clf, filled=True, feature_names=choice_event_keys, class_names=[\"no orb\",\"orb\"]) \n",
    "print(f\"{clf.score(X_test,y_test):.2f}\")\n"
   ]
  },
  {
   "cell_type": "code",
   "execution_count": null,
   "metadata": {},
   "outputs": [],
   "source": [
    "model = RandomForestClassifier().fit(X_train, y_train)\n",
    "print(f\"{model.score(X_test,y_test):.2f}\")\n",
    "# print(confusion_matrix(y_test, predicted))"
   ]
  },
  {
   "cell_type": "code",
   "execution_count": null,
   "metadata": {},
   "outputs": [],
   "source": [
    "model = MLPClassifier(max_iter=1000,hidden_layer_sizes=(300,)).fit(X_train, y_train)\n",
    "print(f\"{model.score(X_test,y_test):.2f}\")\n",
    "# print(confusion_matrix(y_test, predicted))\n",
    "# model.loss_curve_"
   ]
  },
  {
   "cell_type": "code",
   "execution_count": null,
   "metadata": {},
   "outputs": [],
   "source": [
    "# p(diversity_of_creatures * complexity_of_creature | live_players)\n",
    "\n",
    "def find_creatures_in_elt(elt):\n",
    "    output = []\n",
    "    for player in range(2):\n",
    "        for creature in creatures:\n",
    "            if creature in elt:\n",
    "                if (elt[creature]['cardsExecuted'] > 0):\n",
    "                    if len(output) < 2:\n",
    "                        output = [[],[]]\n",
    "                    out_creature = {k: elt[creature][k] for k in creature_stats}\n",
    "                    out_creature['creature'] = creature\n",
    "                    output[player].append(out_creature)\n",
    "    return output\n",
    "\n",
    "machine_types = ['Conditional','Sequential','Probability']\n",
    "def max_by_player(elts_by_player):\n",
    "    output = {k: {} for k in machine_types}\n",
    "    for elts in elts_by_player:\n",
    "        for elt in elts:\n",
    "            for machine_type in machine_types:\n",
    "                try:\n",
    "                    if elt['machineType'] == machine_type:\n",
    "                        if 'cardsExecuted' not in output[machine_type] or elt['cardsExecuted'] > output[machine_type]['cardsExecuted']:\n",
    "                            output[machine_type] = elt\n",
    "                except:\n",
    "                    print(\"ERROR:\",elt)\n",
    "    return output\n",
    "\n",
    "random_elts = random.sample(lawrence_data, k=2)\n",
    "for elt in random_elts:\n",
    "    display(find_creatures_in_elt(elt))"
   ]
  },
  {
   "cell_type": "code",
   "execution_count": null,
   "metadata": {},
   "outputs": [],
   "source": [
    "from itertools import chain, accumulate\n",
    "\n",
    "def creature_score(elts):\n",
    "    return list(map(find_creatures_in_elt,elts))\n",
    "#     creature_stats_by_elt = map()\n",
    "\n",
    "random_elts = random.sample(lawrence_data, k=2)\n",
    "# list(map(lambda x: x[0][0] if len(x) > 0 and len(x[0]) > 0 else {}, (creature_score(random_elts))))"
   ]
  },
  {
   "cell_type": "code",
   "execution_count": null,
   "metadata": {},
   "outputs": [],
   "source": [
    "# player2Creature3\n",
    "creatures = [f\"player{i}Creature{j}\" for i in range(1,3) for j in range(1,4)]\n",
    "creatures"
   ]
  },
  {
   "cell_type": "code",
   "execution_count": null,
   "metadata": {},
   "outputs": [],
   "source": [
    "\n",
    "\n",
    "random_elts = random.sample(lawrence_data, k=2)\n",
    "\n",
    "\n",
    "for elt in random_elts:\n",
    "    display(find_creatures_in_elt(elt))\n",
    "#     for player in range(2):\n",
    "#         for creature in creatures[player]:\n",
    "#             if creature in elt and (elt[creature]['cardsExecuted'] > 0):\n",
    "#                 print(f\"{1 + player} {creature}: {elt[creature]}\")\n",
    "                "
   ]
  },
  {
   "cell_type": "code",
   "execution_count": null,
   "metadata": {},
   "outputs": [],
   "source": []
  }
 ],
 "metadata": {
  "kernelspec": {
   "display_name": "Python 3",
   "language": "python",
   "name": "python3"
  },
  "language_info": {
   "codemirror_mode": {
    "name": "ipython",
    "version": 3
   },
   "file_extension": ".py",
   "mimetype": "text/x-python",
   "name": "python",
   "nbconvert_exporter": "python",
   "pygments_lexer": "ipython3",
   "version": "3.8.5"
  }
 },
 "nbformat": 4,
 "nbformat_minor": 4
}
